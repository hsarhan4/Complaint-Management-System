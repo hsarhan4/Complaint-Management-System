{
 "cells": [
  {
   "cell_type": "markdown",
   "metadata": {},
   "source": [
    "# Week 3 Assessment - Habiba Sarhan"
   ]
  },
  {
   "cell_type": "markdown",
   "metadata": {},
   "source": [
    "## User Case story (Customer)\n",
    "### The system should welcome me as a user\n",
    "### The system should ask me to submit a complaint\n",
    "### The system should tell me when my complain is submitted"
   ]
  },
  {
   "cell_type": "code",
   "execution_count": 1,
   "metadata": {},
   "outputs": [
    {
     "name": "stdout",
     "output_type": "stream",
     "text": [
      "Welcome to our customer satisfaction Unit!\n",
      "Welcome to our customer satisfaction Unit! Press 0 to submit a complaint and 1 to exit:0\n",
      "Please enter your name:  Habiba\n",
      "Please submit your complaint:The device does not work.\n",
      "Thank you, your complaint has been submitted successfully and our team will process it within three working days! \n",
      "==========================\n",
      "Welcome to our customer satisfaction Unit! Press 0 to submit a complaint and 1 to exit:0\n",
      "Please enter your name:  Islam\n",
      "Please submit your complaint:My screen is broken.\n",
      "Thank you, your complaint has been submitted successfully and our team will process it within three working days! \n",
      "==========================\n",
      "Welcome to our customer satisfaction Unit! Press 0 to submit a complaint and 1 to exit:1\n",
      "Thank you for visiting our website. Have a wonderful day!\n",
      "Complaint submiited sofar\n",
      "{'Habiba': {'complaint': 'The device does not work.'}, 'Islam': {'complaint': 'My screen is broken.'}}\n"
     ]
    }
   ],
   "source": [
    "complaint_bank = {}\n",
    "\n",
    "def submit_complaints():\n",
    "    runtime = True \n",
    "    print(\"Welcome to our customer satisfaction Unit!\")\n",
    "    while runtime:\n",
    "        checker = int(input(\"Welcome to our customer satisfaction Unit! Press 0 to submit a complaint and 1 to exit:\"))\n",
    "        if checker == 0:\n",
    "            name = input(\"Please enter your name:  \")\n",
    "            complaint = input(\"Please submit your complaint:\")\n",
    "            print(\"Thank you, your complaint has been submitted successfully and our team will process it within three working days! \")\n",
    "            print('==========================')\n",
    "            complaint_bank[name] = {\"complaint\":complaint}\n",
    "\n",
    "        else:\n",
    "            runtime = False \n",
    "            print(\"Thank you for visiting our website. Have a wonderful day!\")\n",
    "            \n",
    "            print(\"Complaint submiited sofar\")\n",
    "            print(complaint_bank)\n",
    "            \n",
    "submit_complaints()"
   ]
  },
  {
   "cell_type": "markdown",
   "metadata": {},
   "source": [
    "## User Case Story (Team) "
   ]
  },
  {
   "cell_type": "markdown",
   "metadata": {},
   "source": [
    "### List all Complaints"
   ]
  },
  {
   "cell_type": "code",
   "execution_count": null,
   "metadata": {},
   "outputs": [],
   "source": [
    "print(complaint_bank)"
   ]
  },
  {
   "cell_type": "markdown",
   "metadata": {},
   "source": [
    "### Would you like to pick a specific complaint?"
   ]
  },
  {
   "cell_type": "code",
   "execution_count": null,
   "metadata": {},
   "outputs": [],
   "source": [
    " "
   ]
  },
  {
   "cell_type": "markdown",
   "metadata": {},
   "source": [
    "### Detect Complaint Langauge "
   ]
  },
  {
   "cell_type": "code",
   "execution_count": null,
   "metadata": {},
   "outputs": [],
   "source": []
  }
 ],
 "metadata": {
  "kernelspec": {
   "display_name": "Python 3",
   "language": "python",
   "name": "python3"
  },
  "language_info": {
   "codemirror_mode": {
    "name": "ipython",
    "version": 3
   },
   "file_extension": ".py",
   "mimetype": "text/x-python",
   "name": "python",
   "nbconvert_exporter": "python",
   "pygments_lexer": "ipython3",
   "version": "3.6.4"
  }
 },
 "nbformat": 4,
 "nbformat_minor": 2
}
